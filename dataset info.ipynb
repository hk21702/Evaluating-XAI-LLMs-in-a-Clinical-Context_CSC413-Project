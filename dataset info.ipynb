{
 "cells": [
  {
   "cell_type": "code",
   "execution_count": 84,
   "metadata": {},
   "outputs": [],
   "source": [
    "import argparse\n",
    "from pprint import pprint\n",
    "\n",
    "import evaluate\n",
    "import numpy as np\n",
    "import pandas as pd\n",
    "import torch\n",
    "from torch import nn\n",
    "from datasets import load_dataset\n",
    "from peft import LoraConfig, TaskType, get_peft_model\n",
    "from transformers import (\n",
    "    AutoConfig,\n",
    "    AutoTokenizer,\n",
    "    AutoModelForSequenceClassification,\n",
    "    DataCollatorWithPadding,\n",
    "    EvalPrediction,\n",
    "    OPTForSequenceClassification,\n",
    "    Trainer,\n",
    "    TrainingArguments,\n",
    ")\n",
    "import wandb\n",
    "\n",
    "MODEL = \"facebook/opt-350m\"\n",
    "MAX_POSITION_EMBEDDINGS = 2048\n",
    "\n",
    "from dataclasses import dataclass"
   ]
  },
  {
   "cell_type": "code",
   "execution_count": 103,
   "metadata": {},
   "outputs": [],
   "source": [
    "CHECKPOINT_DIR = \"OPT-350m-mimic-full\"\n",
    "TRAIN_DATSET_PATH = \"data/train_9.csv\"\n",
    "VAL_DATASET_PATH = \"data/val_9.csv\"\n",
    "TEST_DATSET_PATH = \"data/test_9.csv\"\n",
    "CODE_PATH = \"data/icd9_codes.csv\"\n",
    "\n",
    "device = torch.device(\"cuda\" if torch.cuda.is_available() else \"cpu\")"
   ]
  },
  {
   "cell_type": "code",
   "execution_count": 117,
   "metadata": {},
   "outputs": [
    {
     "name": "stderr",
     "output_type": "stream",
     "text": [
      "Generating train split: 126004 examples [00:20, 6055.36 examples/s]\n",
      "Generating validation split: 15750 examples [00:01, 8326.58 examples/s] \n",
      "Generating test split: 15751 examples [00:01, 8603.46 examples/s] \n",
      "Map (num_proc=8): 100%|██████████| 126004/126004 [02:05<00:00, 1004.94 examples/s]\n",
      "Map (num_proc=8): 100%|██████████| 15750/15750 [00:16<00:00, 957.40 examples/s] \n",
      "Map (num_proc=8): 100%|██████████| 15751/15751 [00:16<00:00, 948.23 examples/s] \n"
     ]
    }
   ],
   "source": [
    "# Load dataset\n",
    "# Load dataset\n",
    "tokenizer = AutoTokenizer.from_pretrained(MODEL, use_fast=True, device=device)\n",
    "\n",
    "data_files = {\n",
    "    \"train\": TRAIN_DATSET_PATH,\n",
    "    \"validation\": VAL_DATASET_PATH,\n",
    "    \"test\": TEST_DATSET_PATH,\n",
    "}\n",
    "code_labels = pd.read_csv(CODE_PATH)\n",
    "dataset = load_dataset(\"csv\", data_files=data_files)\n",
    "# Create class dictionaries\n",
    "classes = [class_ for class_ in code_labels[\"icd_code\"] if class_]\n",
    "class2id = {class_: id for id, class_ in enumerate(classes)}\n",
    "id2class = {id: class_ for class_, id in class2id.items()}\n",
    "\n",
    "\n",
    "def multi_labels_to_ids(labels: list[str]) -> list[float]:\n",
    "    ids = [0.0] * len(class2id)  # BCELoss requires float as target type\n",
    "    for label in labels:\n",
    "        ids[class2id[label]] = 1.0\n",
    "    return ids\n",
    "\n",
    "\n",
    "def preprocess_function(example):\n",
    "    result = tokenizer(\n",
    "        example[\"text\"]\n",
    "    )\n",
    "    result[\"labels\"] = [multi_labels_to_ids(eval(label)) for label in example[\"labels\"]]\n",
    "    return result\n",
    "\n",
    "\n",
    "dataset = dataset.map(\n",
    "    preprocess_function, batched=True, num_proc=8\n",
    ")"
   ]
  },
  {
   "cell_type": "code",
   "execution_count": 118,
   "metadata": {},
   "outputs": [
    {
     "data": {
      "text/plain": [
       "Dataset({\n",
       "    features: ['text', 'labels', 'input_ids', 'attention_mask'],\n",
       "    num_rows: 126004\n",
       "})"
      ]
     },
     "execution_count": 118,
     "metadata": {},
     "output_type": "execute_result"
    }
   ],
   "source": [
    "dataset[\"train\"]"
   ]
  },
  {
   "cell_type": "code",
   "execution_count": 124,
   "metadata": {},
   "outputs": [],
   "source": [
    "import numpy as np\n",
    "# get average length of text\n",
    "train_dataset = dataset['train']\n",
    "\n",
    "\n",
    "input_ids_lengths =[]\n",
    "label_lengths = []\n",
    "sets = ['train', 'test', 'validation']\n",
    "for set in sets:\n",
    "    input_ids_lengths.extend([len(example['input_ids']) for example in dataset[set]])\n"
   ]
  },
  {
   "cell_type": "code",
   "execution_count": 125,
   "metadata": {},
   "outputs": [
    {
     "name": "stdout",
     "output_type": "stream",
     "text": [
      "2830.1608202914194\n",
      "5685\n",
      "51.0\n",
      "51\n"
     ]
    }
   ],
   "source": [
    "print(np.mean(input_ids_lengths))\n",
    "print(np.max(input_ids_lengths))\n",
    "\n"
   ]
  },
  {
   "cell_type": "code",
   "execution_count": 131,
   "metadata": {},
   "outputs": [],
   "source": [
    "label_lengths = []\n",
    "\n",
    "sets = [\"train\", \"test\", \"validation\"]\n",
    "for set in sets:\n",
    "    label_lengths.extend([example['labels'].count(1) for example in dataset[set]])\n"
   ]
  },
  {
   "cell_type": "code",
   "execution_count": 132,
   "metadata": {},
   "outputs": [
    {
     "name": "stdout",
     "output_type": "stream",
     "text": [
      "4.315278880035555\n",
      "21\n"
     ]
    }
   ],
   "source": [
    "print(np.mean(label_lengths))\n",
    "print(np.max(label_lengths))"
   ]
  },
  {
   "cell_type": "code",
   "execution_count": 126,
   "metadata": {},
   "outputs": [
    {
     "data": {
      "text/plain": [
       "6301"
      ]
     },
     "execution_count": 126,
     "metadata": {},
     "output_type": "execute_result"
    }
   ],
   "source": [
    "len(dataset[\"train\"].shard(index=1, num_shards=20))"
   ]
  },
  {
   "cell_type": "code",
   "execution_count": 107,
   "metadata": {},
   "outputs": [
    {
     "data": {
      "text/plain": [
       "788"
      ]
     },
     "execution_count": 107,
     "metadata": {},
     "output_type": "execute_result"
    }
   ],
   "source": [
    "len(dataset[\"test\"].shard(index=1, num_shards=20))"
   ]
  },
  {
   "cell_type": "code",
   "execution_count": 135,
   "metadata": {},
   "outputs": [
    {
     "name": "stdout",
     "output_type": "stream",
     "text": [
      "Loading biotech events classification dataset\n"
     ]
    },
    {
     "name": "stderr",
     "output_type": "stream",
     "text": [
      "Map: 100%|██████████| 2759/2759 [00:05<00:00, 480.13 examples/s]\n",
      "Map: 100%|██████████| 381/381 [00:00<00:00, 461.50 examples/s]\n"
     ]
    }
   ],
   "source": [
    "print(\"Loading biotech events classification dataset\")\n",
    "bio_dataset = load_dataset(\n",
    "    \"knowledgator/events_classification_biotech\", trust_remote_code=True\n",
    ")\n",
    "bio_classes = [\n",
    "    class_ for class_ in bio_dataset[\"train\"].features[\"label 1\"].names if class_\n",
    "]\n",
    "bio_class2id = {class_: id for id, class_ in enumerate(bio_classes)}\n",
    "bio_id2class = {id: class_ for class_, id in bio_class2id.items()}\n",
    "def preprocess_function(example):\n",
    "    text = f\"{example['title']}.\\n{example['content']}\"\n",
    "    all_labels = example[\"all_labels\"]\n",
    "    labels = [0.0 for i in range(len(bio_classes))]\n",
    "    for label in all_labels:\n",
    "        label_id = bio_class2id[label]\n",
    "        labels[label_id] = 1.0\n",
    "    example = tokenizer(text)\n",
    "    example[\"labels\"] = labels\n",
    "    return example\n",
    "bio_dataset = bio_dataset.map(preprocess_function)"
   ]
  },
  {
   "cell_type": "code",
   "execution_count": 138,
   "metadata": {},
   "outputs": [
    {
     "data": {
      "text/plain": [
       "[0.0,\n",
       " 0.0,\n",
       " 0.0,\n",
       " 0.0,\n",
       " 0.0,\n",
       " 0.0,\n",
       " 0.0,\n",
       " 0.0,\n",
       " 0.0,\n",
       " 0.0,\n",
       " 0.0,\n",
       " 0.0,\n",
       " 0.0,\n",
       " 0.0,\n",
       " 0.0,\n",
       " 0.0,\n",
       " 0.0,\n",
       " 0.0,\n",
       " 0.0,\n",
       " 0.0,\n",
       " 0.0,\n",
       " 0.0,\n",
       " 0.0,\n",
       " 1.0,\n",
       " 0.0,\n",
       " 0.0,\n",
       " 0.0,\n",
       " 0.0,\n",
       " 0.0,\n",
       " 0.0]"
      ]
     },
     "execution_count": 138,
     "metadata": {},
     "output_type": "execute_result"
    }
   ],
   "source": [
    "bio_dataset[\"train\"][\"labels\"][0]"
   ]
  },
  {
   "cell_type": "code",
   "execution_count": 141,
   "metadata": {},
   "outputs": [],
   "source": [
    "bio_input_ids_lengths = []\n",
    "bio_label_lengths = []\n",
    "bio_sets = [\"train\", \"test\"]\n",
    "for set in bio_sets:\n",
    "    bio_input_ids_lengths.extend(\n",
    "        [len(example[\"input_ids\"]) for example in bio_dataset[set]]\n",
    "    )\n",
    "    bio_label_lengths.extend([example[\"labels\"].count(1) for example in bio_dataset[set]])"
   ]
  },
  {
   "cell_type": "code",
   "execution_count": 143,
   "metadata": {},
   "outputs": [
    {
     "name": "stdout",
     "output_type": "stream",
     "text": [
      "672.0152866242038\n",
      "3635\n",
      "1.8289808917197452\n",
      "5\n"
     ]
    }
   ],
   "source": [
    "print(np.mean(bio_input_ids_lengths))\n",
    "print(np.max(bio_input_ids_lengths))\n",
    "\n",
    "print(np.mean(bio_label_lengths))\n",
    "print(np.max(bio_label_lengths))"
   ]
  }
 ],
 "metadata": {
  "kernelspec": {
   "display_name": "Python 3 (ipykernel)",
   "language": "python",
   "name": "python3"
  },
  "language_info": {
   "codemirror_mode": {
    "name": "ipython",
    "version": 3
   },
   "file_extension": ".py",
   "mimetype": "text/x-python",
   "name": "python",
   "nbconvert_exporter": "python",
   "pygments_lexer": "ipython3",
   "version": "3.11.6"
  }
 },
 "nbformat": 4,
 "nbformat_minor": 2
}
