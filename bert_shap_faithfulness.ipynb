{
 "cells": [
  {
   "cell_type": "markdown",
   "metadata": {},
   "source": [
    "### Evaluating Faithfulness on our model:"
   ]
  },
  {
   "cell_type": "code",
   "execution_count": 1,
   "metadata": {},
   "outputs": [
    {
     "name": "stdout",
     "output_type": "stream",
     "text": [
      "cuda\n"
     ]
    }
   ],
   "source": [
    "import pandas as pd\n",
    "from transformers import AutoTokenizer, AutoModel, AutoConfig\n",
    "import torch\n",
    "from datasets import load_dataset\n",
    "import torch.nn.functional as F\n",
    "import shap\n",
    "import shap\n",
    "from transformers import Pipeline\n",
    "\n",
    "import os \n",
    "import numpy\n",
    "\n",
    "torch.cuda.empty_cache()\n",
    "device = torch.device(\"cuda\" if torch.cuda.is_available() else \"cpu\")\n",
    "# device = \"cpu\"\n",
    "data_dir = \"output/\"\n",
    "destination_dir = \"./\"\n",
    "print(device)"
   ]
  },
  {
   "cell_type": "code",
   "execution_count": 2,
   "metadata": {},
   "outputs": [
    {
     "name": "stdout",
     "output_type": "stream",
     "text": [
      "dataset loaded?\n"
     ]
    }
   ],
   "source": [
    "\n",
    "test_short_path = \"data/test_10_top50_short.csv\"\n",
    "labels_10_top50 = pd.read_csv('data/icd10_codes_top50.csv')\n",
    "code_labels_10 = pd.read_csv(\"data/icd10_codes.csv\")\n",
    "print(\"dataset loaded?\")"
   ]
  },
  {
   "cell_type": "code",
   "execution_count": 3,
   "metadata": {},
   "outputs": [],
   "source": [
    "# Model Parameters\n",
    "MAX_POSITION_EMBEDDINGS = 512\n",
    "MODEL = \"emilyalsentzer/Bio_ClinicalBERT\"\n",
    "CKPT = os.path.join(data_dir,\"best_model_state.bin\")"
   ]
  },
  {
   "cell_type": "code",
   "execution_count": 4,
   "metadata": {},
   "outputs": [
    {
     "name": "stdout",
     "output_type": "stream",
     "text": [
      "classes\n",
      "bert model and tokenizer initialized\n"
     ]
    }
   ],
   "source": [
    "# Create class dictionaries\n",
    "classes = [class_ for class_ in code_labels_10[\"icd_code\"] if class_]\n",
    "class2id = {class_: id for id, class_ in enumerate(classes)}\n",
    "id2class = {id: class_ for class_, id in class2id.items()}\n",
    "\n",
    "print(\"classes\")\n",
    "\n",
    "config, unused_kwargs = AutoConfig.from_pretrained(\n",
    "    MODEL,\n",
    "    num_labels=len(classes),\n",
    "    id2label=id2class,\n",
    "    label2id=class2id,\n",
    "    problem_type=\"multi_label_classification\",\n",
    "    return_unused_kwargs=True,\n",
    ")\n",
    "\n",
    "tokenizer_bert = AutoTokenizer.from_pretrained(MODEL)\n",
    "model_bert = AutoModel.from_pretrained(MODEL, config=config, cache_dir='./model_ckpt/')\n",
    "print(\"bert model and tokenizer initialized\")\n",
    "\n"
   ]
  },
  {
   "cell_type": "code",
   "execution_count": 5,
   "metadata": {},
   "outputs": [
    {
     "data": {
      "application/vnd.jupyter.widget-view+json": {
       "model_id": "adb904d2a8c94ede8be0056892c9982e",
       "version_major": 2,
       "version_minor": 0
      },
      "text/plain": [
       "Generating test split: 0 examples [00:00, ? examples/s]"
      ]
     },
     "metadata": {},
     "output_type": "display_data"
    },
    {
     "data": {
      "application/vnd.jupyter.widget-view+json": {
       "model_id": "16c18bc968e44a868f3300371974a91c",
       "version_major": 2,
       "version_minor": 0
      },
      "text/plain": [
       "Map:   0%|          | 0/1000 [00:00<?, ? examples/s]"
      ]
     },
     "metadata": {},
     "output_type": "display_data"
    },
    {
     "name": "stdout",
     "output_type": "stream",
     "text": [
      "dataset loaded\n"
     ]
    }
   ],
   "source": [
    "class TokenizerWrapper:\n",
    "    def __init__(self, tokenizer, length, classes):\n",
    "        self.tokenizer = tokenizer\n",
    "        self.max_length = length\n",
    "        self.classes = classes\n",
    "        self.class2id = {class_: id for id, class_ in enumerate(self.classes)}\n",
    "        self.id2class = {id: class_ for class_, id in self.class2id.items()}\n",
    "        \n",
    "    def multi_labels_to_ids(self, labels: list[str]) -> list[float]:\n",
    "        ids = [0.0] * len(self.class2id)  # BCELoss requires float as target type\n",
    "        for label in labels:\n",
    "            ids[self.class2id[label]] = 1.0\n",
    "        return ids\n",
    "    \n",
    "    def tokenize_function(self, example):\n",
    "        result = self.tokenizer(\n",
    "            example[\"text\"],\n",
    "            max_length = self.max_length,\n",
    "            padding = 'max_length',\n",
    "            truncation = True,\n",
    "            return_tensors='pt'\n",
    "        ).to(device)\n",
    "        result[\"label\"] = torch.tensor([self.multi_labels_to_ids(eval(label)) for label in example[\"label\"]])\n",
    "        return result\n",
    "        \n",
    "data_files = {\n",
    "        \"test\": test_short_path,\n",
    "    }\n",
    "\n",
    "tokenizer_wrapper = TokenizerWrapper(tokenizer_bert, MAX_POSITION_EMBEDDINGS, classes)\n",
    "dataset = load_dataset(\"csv\", data_files=data_files)\n",
    "dataset = dataset.map(tokenizer_wrapper.tokenize_function, batched=True, num_proc=1)\n",
    "dataset = dataset.with_format(\"torch\")\n",
    "print(\"dataset loaded\")"
   ]
  },
  {
   "cell_type": "code",
   "execution_count": 6,
   "metadata": {},
   "outputs": [],
   "source": [
    "\n",
    "class BERTClass(torch.nn.Module):\n",
    "    def __init__(self):\n",
    "        super(BERTClass, self).__init__()\n",
    "        self.config = config\n",
    "        self.device = device\n",
    "        self.bert_model = model_bert\n",
    "        self.can_generate = model_bert.can_generate\n",
    "        self.base_model_prefix = model_bert.base_model_prefix\n",
    "        self.get_input_embeddings = model_bert.get_input_embeddings\n",
    "        self.dropout = torch.nn.Dropout(0.2)\n",
    "        self.linear = torch.nn.Linear(self.bert_model.config.hidden_size, 50)\n",
    "    \n",
    "    def forward(self, input_ids, attn_mask, token_type_ids):\n",
    "        output = self.bert_model(\n",
    "            input_ids, \n",
    "            attention_mask=attn_mask, \n",
    "            token_type_ids=token_type_ids\n",
    "        )\n",
    "        output_dropout = self.dropout(output.pooler_output)\n",
    "        output = self.linear(output_dropout)\n",
    "        return output\n",
    "    \n",
    "model_bert = BERTClass()\n",
    "model_bert.load_state_dict(torch.load(CKPT))\n",
    "model_bert = model_bert.to(device)"
   ]
  },
  {
   "cell_type": "markdown",
   "metadata": {},
   "source": [
    "### Pipeline Initialization"
   ]
  },
  {
   "cell_type": "code",
   "execution_count": 9,
   "metadata": {},
   "outputs": [],
   "source": [
    "class BERT_ICD10_Pipeline(Pipeline):\n",
    "    def _sanitize_parameters(self, **kwargs):\n",
    "        preprocess_kwargs = {}\n",
    "        if \"maybe_arg\" in kwargs:\n",
    "            preprocess_kwargs[\"maybe_arg\"] = kwargs[\"maybe_arg\"]\n",
    "        return preprocess_kwargs, {}, {}\n",
    "\n",
    "    def preprocess(self, text):\n",
    "        return self.tokenizer(\n",
    "            text,\n",
    "            max_length = MAX_POSITION_EMBEDDINGS,\n",
    "            padding = 'max_length',\n",
    "            truncation = True,\n",
    "            return_tensors='pt'\n",
    "        ).to(self.device)\n",
    "\n",
    "    def _forward(self, model_inputs):\n",
    "        ids = model_inputs['input_ids'].to(self.device, dtype = torch.long)\n",
    "        mask = model_inputs['attention_mask'].to(self.device, dtype = torch.long)\n",
    "        token_type_ids = model_inputs['token_type_ids'].to(self.device, dtype = torch.long)\n",
    "        outputs = self.model(ids, mask, token_type_ids).to(self.device)\n",
    "        return outputs\n",
    "\n",
    "    def postprocess(self, model_outputs):\n",
    "        probs = F.sigmoid(model_outputs).detach().cpu().numpy() # if there's more than one possible diagnosis\n",
    "\n",
    "        output = []\n",
    "        for i, prob in enumerate(probs[0]):\n",
    "            label = self.model.config.id2label[i]\n",
    "            score = prob\n",
    "            output.append({\"label\": label, \"score\": score})\n",
    "        # print(output)\n",
    "        return output"
   ]
  },
  {
   "cell_type": "markdown",
   "metadata": {},
   "source": [
    "### Test code for faithfulness calculation"
   ]
  },
  {
   "cell_type": "code",
   "execution_count": 11,
   "metadata": {},
   "outputs": [
    {
     "name": "stdout",
     "output_type": "stream",
     "text": [
      "pipeline initialized\n"
     ]
    }
   ],
   "source": [
    "\n",
    "pipeline = BERT_ICD10_Pipeline(model=model_bert, tokenizer=tokenizer_bert, device = device)\n",
    "print(\"pipeline initialized\")\n"
   ]
  },
  {
   "cell_type": "code",
   "execution_count": 47,
   "metadata": {},
   "outputs": [
    {
     "name": "stdout",
     "output_type": "stream",
     "text": [
      "computing shap\n"
     ]
    }
   ],
   "source": [
    "masker = shap.maskers.Text(pipeline.tokenizer)\n",
    "explainer = shap.Explainer(pipeline, masker)\n",
    "shap_input = dataset['test']['text'][:1]\n",
    "print(\"computing shap\")"
   ]
  },
  {
   "cell_type": "code",
   "execution_count": 48,
   "metadata": {},
   "outputs": [
    {
     "data": {
      "text/plain": [
       "['Sex:   F\\n \\nService: NEUROSURGERY\\n \\nAllergies: \\nNo Known Allergies / Adverse Drug Reactions\\n \\n ___.\\n \\nChief Complaint:\\nHeadaches\\n \\nMajor Surgical or Invasive Procedure:\\n___ - Suboccipital craniotomy for resection of cerebellar \\nlesion\\n\\n \\nHistory of Present Illness:\\n___ is a ___ female with hx cerebral aneurysm \\nclipping in ___ who presents from OSH with left cerebellar \\nhypodensity concerning for underlying lesion. Patient reports \\nthat three weeks ago she started having headaches, which is \\nabnormal for her. She describes the headaches to be global and \\nresolve with Tylenol, but at the worst was an ___. She also \\nreports having difficulty walking, which also started about \\nthree weeks ago. She describes her walking as \"staggering side \\nto side.\" She denies any vision changes, nausea, vomiting, \\nconfusion, or word finding difficulty. She saw her eye doctor \\nthis morning for routine visit, who referred her to the ED for \\nevaluation of these symptoms. OSH CT showed an area of \\nhypodensity in the left cerebellum, concerning for underlying \\nlesion. She was subsequently transferred to ___. \\n\\nOf note, patient reports her aneurysm clip is not MRI \\ncompatible.\\n\\n \\nPast Medical History:\\n- ___ \\n- Hypertension \\n- S/p aneurysm clipping ___ at ___ by Dr. ___\\n \\nSocial History:\\n___\\nFamily History:\\nNo known history of stroke, cancer, aneurysm. \\n\\n \\nPhysical Exam:\\nON ADMISSION: \\nO: T: 97.9  BP: 130/62   HR: 64    R 16     O2Sats 98% RA\\nGen: WD/WN, comfortable, NAD.\\nHEENT: Pupils: L ___, R ___        EOMs full\\nNeck: Supple.\\nExtrem: Warm and well-perfused.\\n\\nNeuro:\\nMental status: Awake and alert, cooperative with exam, normal\\naffect.\\nOrientation: Oriented to person, place, and date.\\nLanguage: Speech fluent with good comprehension and repetition.\\nNaming intact. No dysarthria or paraphasic errors.\\n\\nCranial Nerves:\\nI: Not tested\\nII: Left pupil 5-4mm, right 4-3mm, both equally reactive to\\nlight. \\nIII, IV, VI: Extraocular movements intact bilaterally without\\nnystagmus.\\nV, VII: Facial strength and sensation intact and symmetric.\\nXI: Sternocleidomastoid and trapezius normal bilaterally.\\nXII: Tongue midline without fasciculations.\\n\\nMotor: Normal bulk and tone bilaterally. No abnormal movements,\\ntremors. Strength full power ___ throughout. Slight left upward \\ndrift\\n\\nSensation: Intact to light touch\\n\\nCoordination: normal on finger-nose-finger and heel to shin\\n\\n======================================================\\n\\nON DISCHARGE: \\nExam:\\n\\nOpens eyes: [x]Spontaneous [ ]To voice [ ]To noxious\\n\\nOrientation: [x]Person [x]Place [x]Time\\n\\nFollows commands: [ ]Simple [x]Complex [ ]None\\n\\nPupils:  Right  4-3mm      Left 5-4mm - chronic\\n\\nEOM: [ ]Full [x]Restricted - chronic, most prominent left \\nlateral\\n\\nFace Symmetric: [x]Yes [ ]NoTongue Midline: [x]Yes [ ]No\\n\\nPronator Drift: [ ]Yes [x]No    Speech Fluent: [x]Yes [ ]No\\n\\nComprehension Intact: [x]Yes [ ]No\\n\\nMotor:\\nTrapDeltoid  BicepTricepGrip\\nRight 5         5      5        5      5\\nLeft 5         5      5        5      5\\n\\nIPQuadHamATEHLGast\\nRight5        5       5      5        5        5\\nLeft5        5       5      5        5        5\\n\\n[x]Sensation intact to light touch\\n\\n \\nPertinent Results:\\nPlease see OMR for pertinent lab and imaging results.\\n \\nBrief Hospital Course:\\n#Brain lesion\\nPatient was found to have cerebellar hypodensity on NCHCT from \\nOSH. CT w/wo contrast was obtained while in the ED at ___ \\nwhich was concerning for underlying mass lesion and \\nhydrocephalus. (Of note, she was unable to get MRI due to \\nreportedly having a non-compatible aneurysm clip that was placed \\nin ___ at ___. Patient was admitted to the ___ for close \\nmonitoring and surgical planning. She was started on \\ndexamethasone 4mg Q6hr for mass effect. CT torso was obtained \\nwhich showed two lung nodules, see below for more information. \\nNeuro and radiation oncology were consulted. Plan was made for \\nsurgical resection of the lesion. On ___, it was determined \\nthat her aneurysm clip was MRI compatible and she was able to \\nhave a MRI Brain for surgical planning. She went to the OR the \\nevening of ___ for a suboccipital craniotomy for resection of \\nher cerebellar lesion. Postoperatively she was monitored in \\nNeuro ICU, where she remained neurologically and hemodynamically \\nstable. She was transferred to the ___ on POD#2 and made floor \\nstatus. Her Dexamethasone was ordered to taper down to a \\nmaintenance dose of 2mg BID over the course of one week. Her \\npathology finalized as small cell lung carcinoma. \\n\\n#Lung lesions\\nCT torso was obtained which showed two lung nodules, one in the \\nleft paramedian abutting the aortic arch and the other in the \\nright upper lobe. Pulmonary was consulted and stated that no \\nfurther intervention was indicated until final pathology was \\nback. Heme-Onc was also consulted, and made recommendations that \\nno further lung imaging or separate lung biopsy was needed. Both \\nPulmonary and Heme-Onc stated that staging and treatment could \\nbe determined based on the tissue pathology from resection of \\nthe brain lesion. Her final pathology came back as small cell \\nlung carcinoma. She will follow-up with the thoracic oncologist \\non ___. \\n\\n#Steroid-induced hyperglycemia\\nThroughout her admission, the patient intermittently required \\nsliding scale Insulin for elevated blood sugars while on \\nDexamethasone. She was evaluated by the ___ inpatient team on \\n___, who decided that she did not need to go home on Insulin. \\nThey recommended discharging her with a glucometer so that she \\ncould check her blood sugars daily with a goal blood sugar less \\nthan 200. She was advised to record her readings and follow-up \\nwith her PCP and ___. \\n\\n#Bradycardia\\nShe was due to transfer out to the ___ on POD1, however was \\nkept in the ICU for asymptomatic bradycardia to the ___. She \\nremained asymptomatic, and her heartrate improved with fluids, \\nand administration of her levothyroxine. She intermittently \\ndipped to the ___, however remained asymptomatic.\\n\\n#Bell\\'s palsy\\nThe patient was resumed on her home Valacyclovir and Prenisolone \\ngtts. \\n\\n#Urinary urgency\\nOn POD 2, the patient complained of urinary urgency and \\nincreased frequency. U/A was negative and culture was negative. \\nHer symptoms had resolved at the time of discharge.\\n\\n#Dispo \\nThe patient was evaluated by ___ and OT who cleared her for home \\nwith services. She was discharged on ___ in stable condition. \\nShe will follow up in ___ on ___. \\n \\nMedications on Admission:\\n- ASA 81mg\\n- Alendronate 70mg weekly\\n- Vitamin D3 ___ units daily\\n- Levothyroxine 88mcg daily\\n- Lisinopril 20mg daily\\n\\n \\nDischarge Medications:\\n1.  Acetaminophen 650 mg PO Q6H:PRN Pain - Mild/Fever  \\n2.  Bisacodyl 10 mg PO/PR DAILY  \\n3.  Dexamethasone 3 mg PO Q8H Duration: 6 Doses \\nstart ___: 3tabsq8hrs x2, 2tabsq8hrs x6, 2tabsq12hrs \\nmaintenance dose.  \\nThis is dose # 2 of 3 tapered doses\\nRX *dexamethasone 1 mg 3 tablet(s) by mouth every eight (8) \\nhours Disp #*120 Tablet Refills:*1 \\n4.  Docusate Sodium 100 mg PO BID  \\n5.  Famotidine 20 mg PO Q24H \\nRX *famotidine 20 mg 1 tablet(s) by mouth twice a day Disp #*60 \\nTablet Refills:*1 \\n6.  Polyethylene Glycol 17 g PO DAILY:PRN Constipation - First \\nLine  \\n7.  Senna 17.2 mg PO HS  \\n8.  Levothyroxine Sodium 88 mcg PO DAILY  \\n9.  Lisinopril 20 mg PO DAILY  \\n10.  PrednisoLONE Acetate 1% Ophth. Susp. 1 DROP LEFT EYE QID  \\n11.  ValACYclovir 1000 mg PO Q8H  \\n12.  Vitamin D ___ UNIT PO DAILY  \\n13. HELD- Alendronate Sodium 70 mg PO 1X/WEEK (___)  This \\nmedication was held. Do not restart Alendronate Sodium until POD \\n___ - ___\\n14. HELD- Aspirin 81 mg PO DAILY  This medication was held. Do \\nnot restart Aspirin until POD 14 - ___\\n___ glucometer\\n___ Freestyle glucometer. Check blood sugars ___ hours after a \\nstarchy meal. Record numbers and show to your Oncologist. \\n___ test strips\\n#50. Check blood sugars QD. 3 refills.  \\n___ Lancets\\n#50. Check blood sugars QD. 3 refills. \\n\\n \\nDischarge Disposition:\\nHome With Service\\n \\nFacility:\\n___\\n \\nDischarge Diagnosis:\\nBrain tumor\\n\\n \\nDischarge Condition:\\nMental Status: Clear and coherent.\\nLevel of Consciousness: Alert and interactive.\\nActivity Status: Ambulatory - requires assistance or aid.\\n\\n \\nDischarge Instructions:\\nSurgery:\\n\\n- You underwent surgery to remove a brain lesion from your \\nbrain. \\n\\n- A sample of tissue from the lesion in your brain was sent to \\npathology for testing. \\n\\n- Please keep your incision dry until your sutures are removed. \\n\\n- You may shower at this time but keep your incision dry.\\n\\n- It is best to keep your incision open to air but it is ok to \\ncover it when outside. \\n\\n- Call your surgeon if there are any signs of infection like \\nredness, fever, or drainage. \\n\\nActivity:\\n\\n- We recommend that you avoid heavy lifting, running, climbing, \\nor other strenuous exercise until your follow-up appointment.\\n\\n- You make take leisurely walks and slowly increase your \\nactivity at your own pace once you are symptom free at rest. \\n___ try to do too much all at once.\\n\\n- No driving while taking any narcotic or sedating medication. \\n\\n- If you experienced a seizure while admitted, you are NOT \\nallowed to drive by law. \\n\\n- No contact sports until cleared by your neurosurgeon. You \\nshould avoid contact sports for 6 months. \\n\\nMedications:\\n\\n- Please do NOT take any blood thinning medication (Aspirin, \\nIbuprofen, Plavix, Coumadin) until cleared by the neurosurgeon. \\nWe held your Aspirin 81mg daily. You are cleared to resume this \\nmedication on POD 14 (___). \\n\\n- We held your home Alendronate during this admission. You are \\ncleared to resume this medication on POD 14 (___). \\n\\n- You may use Acetaminophen (Tylenol) for minor discomfort if \\nyou are not otherwise restricted from taking this medication.\\n\\n- You were started on Dexamethasone, a steroid that treats \\nintracranial swelling. This Dexamethasone is being tapered down \\nto a maintenance dose of 2mg BID. Please take this medication as \\nprescribed.\\n\\n- While admitted, you had elevated blood glucose levels that \\nneeded to be treated by Insulin. You should continue to check \\nyour blood sugars daily at home with the prescribed glucometer. \\nYou visiting nurse should teach you how to use this device at \\nhome. Please record your blood sugars and follow-up with your \\nPCP and ___ regarding the results. Your goal blood sugar \\nis less than 200. \\n\\nWhat You ___ Experience:\\n\\n- You may experience headaches and incisional pain. \\n\\n- You may also experience some post-operative swelling around \\nyour face and eyes. This is normal after surgery and most \\nnoticeable on the second and third day of surgery.  You apply \\nice or a cool or warm washcloth to your eyes to help with the \\nswelling. The swelling will be its worse in the morning after \\nlaying flat from sleeping but decrease when up. \\n\\n- You may experience soreness with chewing. This is normal from \\nthe surgery and will improve with time. Softer foods may be \\neasier during this time. \\n\\n- Feeling more tired or restlessness is also common.\\n\\n- Constipation is common. Be sure to drink plenty of fluids and \\neat a high-fiber diet. If you are taking narcotics (prescription \\npain medications), try an over-the-counter stool softener.\\n\\nWhen to Call Your Doctor at ___ for:\\n\\n- Severe pain, swelling, redness or drainage from the incision \\nsite. \\n\\n- Fever greater than 101.5 degrees Fahrenheit\\n\\n- Nausea and/or vomiting\\n\\n- Extreme sleepiness and not being able to stay awake\\n\\n- Severe headaches not relieved by pain relievers\\n\\n- Seizures\\n\\n- Any new problems with your vision or ability to speak\\n\\n- Weakness or changes in sensation in your face, arms, or leg\\n\\nCall ___ and go to the nearest Emergency Room if you experience \\nany of the following:\\n\\n- Sudden numbness or weakness in the face, arm, or leg\\n\\n- Sudden confusion or trouble speaking or understanding\\n\\n- Sudden trouble walking, dizziness, or loss of balance or \\ncoordination\\n\\n- Sudden severe headaches with no known reason\\n\\n \\nFollowup Instructions:\\n___']"
      ]
     },
     "execution_count": 48,
     "metadata": {},
     "output_type": "execute_result"
    }
   ],
   "source": [
    "shap.sample(shap_input, 2)"
   ]
  },
  {
   "cell_type": "code",
   "execution_count": 49,
   "metadata": {},
   "outputs": [
    {
     "data": {
      "application/vnd.jupyter.widget-view+json": {
       "model_id": "0d9b4fc508fc40dbb14a27d00f7d9d1b",
       "version_major": 2,
       "version_minor": 0
      },
      "text/plain": [
       "  0%|          | 0/498 [00:00<?, ?it/s]"
      ]
     },
     "metadata": {},
     "output_type": "display_data"
    },
    {
     "name": "stderr",
     "output_type": "stream",
     "text": [
      "PartitionExplainer explainer: 2it [00:55, 55.07s/it]               \n"
     ]
    },
    {
     "name": "stdout",
     "output_type": "stream",
     "text": [
      ".values =\n",
      "array([[[ 3.24147594e-04, -7.64450838e-05],\n",
      "        [ 3.24147594e-04, -7.64450838e-05],\n",
      "        [ 3.24147594e-04, -7.64450838e-05],\n",
      "        ...,\n",
      "        [-4.98865204e-05,  9.77840208e-05],\n",
      "        [-4.98865204e-05,  9.77840208e-05],\n",
      "        [-4.98865204e-05,  9.77840208e-05]]])\n",
      "\n",
      ".base_values =\n",
      "array([[0.19439352, 0.29103452]])\n",
      "\n",
      ".data =\n",
      "(array(['', 'Sex', ':   ', ..., '_', '_', ''], dtype=object),)\n"
     ]
    }
   ],
   "source": [
    "shap_values = explainer(\n",
    "        shap_input,\n",
    "        batch_size=5,\n",
    "        outputs=shap.Explanation.argsort.flip[:2]\n",
    "        )\n",
    "\n",
    "print(shap_values)"
   ]
  },
  {
   "cell_type": "code",
   "execution_count": 54,
   "metadata": {},
   "outputs": [],
   "source": [
    "test_input = ['a test']"
   ]
  },
  {
   "cell_type": "code",
   "execution_count": 55,
   "metadata": {},
   "outputs": [],
   "source": [
    "shap_values = explainer(test_input)"
   ]
  },
  {
   "cell_type": "code",
   "execution_count": 65,
   "metadata": {},
   "outputs": [],
   "source": [
    "import numpy as np"
   ]
  },
  {
   "cell_type": "code",
   "execution_count": 70,
   "metadata": {},
   "outputs": [
    {
     "data": {
      "text/plain": [
       ".values =\n",
       "array([[[ 0.00884168,  0.02199024,  0.04240134, ...,  0.        ,\n",
       "          0.        ,  0.        ],\n",
       "        [ 0.03830965,  0.15435492, -0.00512322, ...,  0.        ,\n",
       "          0.        ,  0.        ],\n",
       "        [ 0.07860697,  0.05347701, -0.00376649, ...,  0.        ,\n",
       "          0.        ,  0.        ],\n",
       "        [-0.04718865, -0.00847325,  0.04289608, ...,  0.        ,\n",
       "          0.        ,  0.        ]]])\n",
       "\n",
       ".base_values =\n",
       "array([[0.10521022, 0.25801185, 0.39506537, ..., 0.        , 0.        ,\n",
       "        0.        ]])\n",
       "\n",
       ".data =\n",
       "(array(['', 'a ', 'test', ''], dtype=object),)"
      ]
     },
     "execution_count": 70,
     "metadata": {},
     "output_type": "execute_result"
    }
   ],
   "source": [
    "shap_values"
   ]
  },
  {
   "cell_type": "code",
   "execution_count": 69,
   "metadata": {},
   "outputs": [
    {
     "data": {
      "text/plain": [
       "array([[0.00884168, 0.02199024, 0.04240134, ..., 0.        , 0.        ,\n",
       "        0.        ],\n",
       "       [0.03830965, 0.15435492, 0.00512322, ..., 0.        , 0.        ,\n",
       "        0.        ],\n",
       "       [0.07860697, 0.05347701, 0.00376649, ..., 0.        , 0.        ,\n",
       "        0.        ],\n",
       "       [0.04718865, 0.00847325, 0.04289608, ..., 0.        , 0.        ,\n",
       "        0.        ]])"
      ]
     },
     "execution_count": 69,
     "metadata": {},
     "output_type": "execute_result"
    }
   ],
   "source": [
    "vals= np.abs(shap_values.values).mean(0)\n",
    "vals"
   ]
  },
  {
   "cell_type": "code",
   "execution_count": 77,
   "metadata": {},
   "outputs": [],
   "source": [
    "features_column = shap_values.data[0]"
   ]
  },
  {
   "cell_type": "code",
   "execution_count": 78,
   "metadata": {},
   "outputs": [],
   "source": [
    "feature_importance = pd.DataFrame(list(zip(features_column, sum(vals))), columns=['feature','feature_importance_vals'])"
   ]
  },
  {
   "cell_type": "code",
   "execution_count": 79,
   "metadata": {},
   "outputs": [],
   "source": [
    "feature_importance.sort_values(by=['feature_importance_vals'], ascending=False,inplace=True)"
   ]
  },
  {
   "cell_type": "code",
   "execution_count": 80,
   "metadata": {},
   "outputs": [
    {
     "data": {
      "text/html": [
       "<div>\n",
       "<style scoped>\n",
       "    .dataframe tbody tr th:only-of-type {\n",
       "        vertical-align: middle;\n",
       "    }\n",
       "\n",
       "    .dataframe tbody tr th {\n",
       "        vertical-align: top;\n",
       "    }\n",
       "\n",
       "    .dataframe thead th {\n",
       "        text-align: right;\n",
       "    }\n",
       "</style>\n",
       "<table border=\"1\" class=\"dataframe\">\n",
       "  <thead>\n",
       "    <tr style=\"text-align: right;\">\n",
       "      <th></th>\n",
       "      <th>col_name</th>\n",
       "      <th>feature_importance_vals</th>\n",
       "    </tr>\n",
       "  </thead>\n",
       "  <tbody>\n",
       "    <tr>\n",
       "      <th>1</th>\n",
       "      <td>a</td>\n",
       "      <td>0.238295</td>\n",
       "    </tr>\n",
       "    <tr>\n",
       "      <th>0</th>\n",
       "      <td></td>\n",
       "      <td>0.172947</td>\n",
       "    </tr>\n",
       "    <tr>\n",
       "      <th>3</th>\n",
       "      <td></td>\n",
       "      <td>0.127548</td>\n",
       "    </tr>\n",
       "    <tr>\n",
       "      <th>2</th>\n",
       "      <td>test</td>\n",
       "      <td>0.094187</td>\n",
       "    </tr>\n",
       "  </tbody>\n",
       "</table>\n",
       "</div>"
      ],
      "text/plain": [
       "  col_name  feature_importance_vals\n",
       "1       a                  0.238295\n",
       "0                          0.172947\n",
       "3                          0.127548\n",
       "2     test                 0.094187"
      ]
     },
     "execution_count": 80,
     "metadata": {},
     "output_type": "execute_result"
    }
   ],
   "source": [
    "feature_importance['feature']"
   ]
  },
  {
   "cell_type": "code",
   "execution_count": null,
   "metadata": {},
   "outputs": [],
   "source": [
    "# TODO:\n",
    "# 1) Find the top k features from feature_importance\n",
    "# 2) Keep track of their corresponding token index after tokenization\n",
    "# 3) Retokenize the input text and remove the token indices in step 2\n",
    "# 4) Detokenize by combining the strings back together\n",
    "# 5) Feed it back to the model"
   ]
  }
 ],
 "metadata": {
  "kernelspec": {
   "display_name": "Python 3 (ipykernel)",
   "language": "python",
   "name": "python3"
  },
  "language_info": {
   "codemirror_mode": {
    "name": "ipython",
    "version": 3
   },
   "file_extension": ".py",
   "mimetype": "text/x-python",
   "name": "python",
   "nbconvert_exporter": "python",
   "pygments_lexer": "ipython3",
   "version": "3.12.3"
  }
 },
 "nbformat": 4,
 "nbformat_minor": 4
}
