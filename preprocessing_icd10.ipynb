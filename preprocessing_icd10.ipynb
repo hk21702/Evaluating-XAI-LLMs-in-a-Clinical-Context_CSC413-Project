{
 "cells": [
  {
   "cell_type": "code",
   "execution_count": 1,
   "metadata": {},
   "outputs": [],
   "source": [
    "import numpy as np\n",
    "import pandas as pd\n",
    "from matplotlib import pyplot as plt\n",
    "import swifter\n",
    "\n",
    "import re\n",
    "import statistics\n",
    "\n",
    "\n",
    "INPUT_FOLDER = \"\"\n",
    "DATA_FOLDER = \"data/\""
   ]
  },
  {
   "cell_type": "code",
   "execution_count": 41,
   "metadata": {},
   "outputs": [],
   "source": [
    "def basic_parse_dataframe(df: pd.DataFrame) -> pd.DataFrame:\n",
    "    # Drop rows with missing values\n",
    "    df = df.dropna()\n",
    "    # Drop duplicate rows\n",
    "    df = df.drop_duplicates(subset=[\"hadm_id\", \"icd_code\"])\n",
    "    return df\n",
    "\n",
    "\n",
    "def parse_codes(df: pd.DataFrame) -> pd.DataFrame:\n",
    "    # Split the icd_code into the first 3 characters and the rest\n",
    "    df = df.dropna(subset=[\"icd_code\"])\n",
    "    df = df.drop_duplicates(subset=[\"hadm_id\", \"icd_code\"])\n",
    "    # Group by subject-id, hadm-id, and icd-version and aggregate the icd-codes into a list\n",
    "    df = (\n",
    "        df.groupby([\"subject_id\", \"hadm_id\", \"icd_version\"])\n",
    "        .agg({\"icd_code\": list})\n",
    "        .reset_index()\n",
    "    )\n",
    "    return df\n",
    "\n",
    "\n",
    "def add_prefix(df: pd.DataFrame, prefix: str) -> pd.DataFrame:\n",
    "    \"\"\"For each code in the icd_column, add a string prefix to the front followed by a hyphen.\n",
    "\n",
    "    Codes are assumed to be strings.\n",
    "    Returns the resulting dataframe.\"\"\"\n",
    "    df[\"icd_code\"] = df[\"icd_code\"].apply(lambda x: prefix + \"-\" + x)\n",
    "    return df\n",
    "\n",
    "\n",
    "def plot_top_n(df: pd.DataFrame, title: str, top_n: int, icd_version: int) -> None:\n",
    "    \"\"\"\n",
    "    Plots the top n most frequent codes in a bar graph. Include the full name of the code hyphenated with the code.\n",
    "    \"\"\"\n",
    "    df = df[df.icd_version == icd_version]\n",
    "    # Get the top n most frequent codes\n",
    "    top_codes = df.icd_code.value_counts().head(top_n)\n",
    "\n",
    "    # Plot the graph\n",
    "    top_codes.plot(kind=\"bar\")\n",
    "    plt.title(title)\n",
    "    plt.show()\n",
    "\n",
    "def get_top_n_codes(df: pd.DataFrame, top_n: int, icd_version: int) -> None:\n",
    "    \"\"\"\n",
    "    Plots the top n most frequent codes in a bar graph. Include the full name of the code hyphenated with the code.\n",
    "    \"\"\"\n",
    "    df = df[df.icd_version == icd_version]\n",
    "    # Get the top n most frequent codes\n",
    "    top_codes = df.icd_code.value_counts().head(top_n)\n",
    "    return top_codes\n",
    "\n",
    "\n",
    "def extra_processing(text: str) -> str:\n",
    "    # Remove fluff text such as \"Date of Birth: ___\", \"Name: ___\", \"Unit No: ___\"\n",
    "    fluff_text = [\n",
    "        \"Date of Birth:\",\n",
    "        \"Name:\",\n",
    "        \"Unit No:\",\n",
    "        \"Admission Date:\",\n",
    "        \"Attending:\",\n",
    "        \"Discharge Date:\",\n",
    "    ]\n",
    "    for fluff in fluff_text:\n",
    "        text = text.replace(fluff, \"\")\n",
    "\n",
    "    # Strip\n",
    "\n",
    "    text = re.sub(r\"^[\\s_]*\", \"\", text)\n",
    "    text = text.strip()\n",
    "    return text\n",
    "\n",
    "def prune_text(df: pd.DataFrame, max_len = 40000):\n",
    "    # Remove entries that have text that includes more than max_tokens\n",
    "    df = df[df.text.str.len() <= max_len]\n",
    "    return df\n",
    "\n"
   ]
  },
  {
   "cell_type": "code",
   "execution_count": 3,
   "metadata": {},
   "outputs": [],
   "source": [
    "diagnoses_icd = pd.read_csv(\n",
    "    INPUT_FOLDER + \"mimic-iv-2.2/hosp/diagnoses_icd.csv.gz\",\n",
    "    compression=\"gzip\",\n",
    ")\n",
    "\n",
    "procedures_icd = pd.read_csv(\n",
    "    INPUT_FOLDER + \"mimic-iv-2.2/hosp/procedures_icd.csv.gz\",\n",
    "    compression=\"gzip\",\n",
    ")\n",
    "\n",
    "# Remove all codes with less than 10 occurances\n",
    "diagnoses_icd = diagnoses_icd.groupby(\"icd_code\").filter(lambda x: len(x) > 10)\n",
    "procedures_icd = procedures_icd.groupby(\"icd_code\").filter(lambda x: len(x) > 10)\n",
    "\n",
    "diagnoses_icd = basic_parse_dataframe(diagnoses_icd)\n",
    "procedures_icd = basic_parse_dataframe(procedures_icd)\n",
    "\n",
    "# Add the prefix to the icd_code\n",
    "pre_diagnoses_icd = add_prefix(diagnoses_icd, \"d\")\n",
    "pre_procedures_icd = add_prefix(procedures_icd, \"p\")\n",
    "\n",
    "diagnoses_icd = parse_codes(pre_diagnoses_icd)\n",
    "procedures_icd = parse_codes(pre_procedures_icd)\n",
    "\n",
    "# Rename the icd_code column to icd_diag and icd_proc\n",
    "diagnoses_icd = diagnoses_icd.rename(columns={\"icd_code\": \"icd_diag\"})\n",
    "procedures_icd = procedures_icd.rename(columns={\"icd_code\": \"icd_proc\"})"
   ]
  },
  {
   "cell_type": "code",
   "execution_count": 4,
   "metadata": {},
   "outputs": [],
   "source": [
    "# Split into ICD version 9 and version 10\n",
    "diagnoses_icd9 = diagnoses_icd[diagnoses_icd.icd_version == 9]\n",
    "diagnoses_icd10 = diagnoses_icd[diagnoses_icd.icd_version == 10]\n",
    "\n",
    "procedures_icd9 = procedures_icd[procedures_icd.icd_version == 9]\n",
    "procedures_icd10 = procedures_icd[procedures_icd.icd_version == 10]"
   ]
  },
  {
   "cell_type": "code",
   "execution_count": null,
   "metadata": {},
   "outputs": [],
   "source": [
    "diagnoses_icd9.head()"
   ]
  },
  {
   "cell_type": "code",
   "execution_count": null,
   "metadata": {},
   "outputs": [],
   "source": [
    "procedures_icd10.head()"
   ]
  },
  {
   "cell_type": "code",
   "execution_count": 7,
   "metadata": {},
   "outputs": [
    {
     "name": "stdout",
     "output_type": "stream",
     "text": [
      "ICD9 count: 18554\n",
      "ICD10 count: 176478\n"
     ]
    }
   ],
   "source": [
    "# Get total label count. This is the number of diagnoses and procedure codes, seperated into icd9 and icd10\n",
    "\n",
    "diagnoses_codes = pd.read_csv(\n",
    "    INPUT_FOLDER + \"mimic-iv-2.2/hosp/d_icd_diagnoses.csv.gz\",\n",
    "    compression=\"gzip\",\n",
    ")\n",
    "\n",
    "procedure_codes = pd.read_csv(\n",
    "    INPUT_FOLDER + \"mimic-iv-2.2/hosp/d_icd_procedures.csv.gz\",\n",
    "    compression=\"gzip\",\n",
    ")\n",
    "\n",
    "# Add the prefix to the icd_code\n",
    "diagnoses_codes = add_prefix(diagnoses_codes, \"d\")\n",
    "procedure_codes = add_prefix(procedure_codes, \"p\")\n",
    "\n",
    "# Split into ICD version 9 and version 10\n",
    "icd9_diagnoses_codes = diagnoses_codes[diagnoses_codes.icd_version == 9]\n",
    "icd10_diagnoses_codes = diagnoses_codes[diagnoses_codes.icd_version == 10]\n",
    "\n",
    "icd9_procedures_codes = procedure_codes[procedure_codes.icd_version == 9]\n",
    "icd10_procedures_codes = procedure_codes[procedure_codes.icd_version == 10]\n",
    "\n",
    "# Merge the diagnoses and procedures\n",
    "icd9_codes = pd.concat([icd9_diagnoses_codes, icd9_procedures_codes])\n",
    "icd10_codes = pd.concat([icd10_diagnoses_codes, icd10_procedures_codes])\n",
    "\n",
    "# Print counts entries\n",
    "print(\"ICD9 count:\", len(icd9_codes))\n",
    "print(\"ICD10 count:\", len(icd10_codes))"
   ]
  },
  {
   "cell_type": "code",
   "execution_count": null,
   "metadata": {},
   "outputs": [],
   "source": [
    "# Print rows where hadm_id is \"25022803\"\n",
    "diagnoses_icd9[diagnoses_icd9.hadm_id == 25022803]"
   ]
  },
  {
   "cell_type": "code",
   "execution_count": null,
   "metadata": {},
   "outputs": [],
   "source": [
    "icd9_codes.head()"
   ]
  },
  {
   "cell_type": "code",
   "execution_count": null,
   "metadata": {},
   "outputs": [],
   "source": [
    "mimic_notes = pd.read_csv(\n",
    "    INPUT_FOLDER + \"mimic-iv-2.2-note/discharge.csv.gz\",\n",
    "    compression=\"gzip\",\n",
    "    usecols=lambda x: x not in [\"storetime\", \"note_type\", \"charttime\"],\n",
    ")\n",
    "# Drop missing rows that are missing \"text\" or \"hadm_id\" or \"subject_id\"\n",
    "mimic_notes = mimic_notes.dropna(subset=[\"text\", \"hadm_id\", \"subject_id\"])\n",
    "\n",
    "mimic_notes.head()"
   ]
  },
  {
   "cell_type": "code",
   "execution_count": 11,
   "metadata": {},
   "outputs": [
    {
     "data": {
      "application/vnd.jupyter.widget-view+json": {
       "model_id": "0f5b67c932e0460ca7e1a7dd8b66c1e5",
       "version_major": 2,
       "version_minor": 0
      },
      "text/plain": [
       "Pandas Apply:   0%|          | 0/331793 [00:00<?, ?it/s]"
      ]
     },
     "metadata": {},
     "output_type": "display_data"
    }
   ],
   "source": [
    "# Apply extra processing to the text. Use swifter with dask\n",
    "mimic_notes[\"text\"] = mimic_notes[\"text\"].swifter.apply(extra_processing)\n",
    "\n",
    "# Get top 25 percentile text length\n",
    "text_lengths = mimic_notes.text.str.len()\n"
   ]
  },
  {
   "cell_type": "code",
   "execution_count": 12,
   "metadata": {},
   "outputs": [
    {
     "name": "stdout",
     "output_type": "stream",
     "text": [
      "Mean text length: 10408.03212846564\n",
      "Median text length: 9704\n",
      "80th percentile text length: 13535.0\n"
     ]
    }
   ],
   "source": [
    "print(\"Mean text length:\", statistics.mean(text_lengths))\n",
    "print(\"Median text length:\", statistics.median(text_lengths))\n",
    "print(\"80th percentile text length:\", np.percentile(text_lengths, 80))"
   ]
  },
  {
   "cell_type": "code",
   "execution_count": 13,
   "metadata": {},
   "outputs": [],
   "source": [
    "# Prune text to remove entries that are too long\n",
    "mimic_notes = prune_text(mimic_notes, max_len=np.percentile(text_lengths, 80))"
   ]
  },
  {
   "cell_type": "code",
   "execution_count": null,
   "metadata": {},
   "outputs": [],
   "source": [
    "mimic_9 = mimic_notes.merge(\n",
    "    diagnoses_icd9[[\"hadm_id\", \"icd_diag\"]], on=\"hadm_id\", how=\"left\"\n",
    ")\n",
    "\n",
    "mimic_9 = mimic_9.merge(\n",
    "    procedures_icd9[[\"hadm_id\", \"icd_proc\"]], on=\"hadm_id\", how=\"left\"\n",
    ")\n",
    "\n",
    "mimic_10 = mimic_notes.merge(\n",
    "    diagnoses_icd10[[\"hadm_id\", \"icd_diag\"]], on=\"hadm_id\", how=\"left\"\n",
    ")\n",
    "\n",
    "mimic_10 = mimic_10.merge(\n",
    "    procedures_icd10[[\"hadm_id\", \"icd_proc\"]], on=\"hadm_id\", how=\"left\"\n",
    ")\n",
    "\n",
    "# Remove notes with no icd code\n",
    "mimic_9 = mimic_9.dropna(subset=[\"icd_diag\", \"icd_proc\"])\n",
    "mimic_10 = mimic_10.dropna(subset=[\"icd_diag\", \"icd_proc\"])\n",
    "\n",
    "mimic_9.head()"
   ]
  },
  {
   "cell_type": "code",
   "execution_count": null,
   "metadata": {},
   "outputs": [],
   "source": [
    "# Create label column\n",
    "mimic_9[\"label\"] = mimic_9[\"icd_diag\"] + mimic_9[\"icd_proc\"]\n",
    "mimic_10[\"label\"] = mimic_10[\"icd_diag\"] + mimic_10[\"icd_proc\"]\n",
    "\n",
    "mimic_9.head()"
   ]
  },
  {
   "cell_type": "code",
   "execution_count": 16,
   "metadata": {},
   "outputs": [
    {
     "name": "stdout",
     "output_type": "stream",
     "text": [
      "Shared codes: 0\n",
      "Shared codes: 0\n"
     ]
    }
   ],
   "source": [
    "# Check for codes shared between icd9 diagnoses and procedures\n",
    "shared_codes_9 = set(icd9_diagnoses_codes.icd_code).intersection(\n",
    "    set(icd9_procedures_codes.icd_code)\n",
    ")\n",
    "print(\"Shared codes:\", len(shared_codes_9))\n",
    "\n",
    "# Check for codes shared between icd10 diagnoses and procedures\n",
    "shared_codes_10 = set(icd10_diagnoses_codes.icd_code).intersection(\n",
    "    set(icd10_procedures_codes.icd_code)\n",
    ")\n",
    "\n",
    "print(\"Shared codes:\", len(shared_codes_10))"
   ]
  },
  {
   "cell_type": "code",
   "execution_count": null,
   "metadata": {},
   "outputs": [],
   "source": [
    "# Report the number of entries, the average length of labels, average length of text, and the number of labels that occur more than 5 times\n",
    "\n",
    "print(\"MIMIC-9\")\n",
    "print(\"Number of entries:\", len(mimic_9))\n",
    "print(\"Average length of labels:\", np.mean(mimic_9.label.apply(len)))\n",
    "print(\"Average length of text:\", np.mean(mimic_9.text.apply(len)))\n",
    "\n",
    "print(\"MIMIC-10\")\n",
    "print(\"Number of entries:\", len(mimic_10))\n",
    "print(\"Average length of labels:\", np.mean(mimic_10.label.apply(len)))\n",
    "print(\"Average length of text:\", np.mean(mimic_10.text.apply(len)))"
   ]
  },
  {
   "cell_type": "code",
   "execution_count": 18,
   "metadata": {},
   "outputs": [],
   "source": [
    "# Concat pre diag and pre_proc\n",
    "mimic = pd.concat([pre_diagnoses_icd, pre_procedures_icd])"
   ]
  },
  {
   "cell_type": "code",
   "execution_count": 19,
   "metadata": {},
   "outputs": [
    {
     "data": {
      "image/png": "[encoded data removed]",
      "text/plain": [
       "<Figure size 640x480 with 1 Axes>"
      ]
     },
     "metadata": {},
     "output_type": "display_data"
    }
   ],
   "source": [
    "plot_top_n(mimic, \"Top 50 ICD10 codes\", 50, 10)"
   ]
  },
  {
   "cell_type": "code",
   "execution_count": 20,
   "metadata": {},
   "outputs": [
    {
     "data": {
      "image/png": "[encoded data removed]",
      "text/plain": [
       "<Figure size 640x480 with 1 Axes>"
      ]
     },
     "metadata": {},
     "output_type": "display_data"
    }
   ],
   "source": [
    "plot_top_n(mimic, \"Top 50 ICD9 codes\", 50, 9)"
   ]
  },
  {
   "cell_type": "code",
   "execution_count": 21,
   "metadata": {},
   "outputs": [],
   "source": [
    "# Cleanup\n",
    "\n",
    "# Drop all columns other than text and label\n",
    "mimic_9 = mimic_9[[\"text\", \"label\"]]\n",
    "mimic_10 = mimic_10[[\"text\", \"label\"]]"
   ]
  },
  {
   "cell_type": "code",
   "execution_count": 42,
   "metadata": {},
   "outputs": [],
   "source": [
    "mimic_9_top50_codes = get_top_n_codes(mimic, 50, 9)\n",
    "mimic_10_top50_codes = get_top_n_codes(mimic, 50, 10)"
   ]
  },
  {
   "cell_type": "code",
   "execution_count": 43,
   "metadata": {},
   "outputs": [],
   "source": [
    "# Function to check if any item in the list is in L\n",
    "def filter_labels(df, L):\n",
    "    df['label'] = df['label'].apply(lambda labels: [label for label in labels if label in L])\n",
    "    return df[df['label'].apply(len) > 0]\n"
   ]
  },
  {
   "cell_type": "code",
   "execution_count": 44,
   "metadata": {},
   "outputs": [],
   "source": [
    "mimic_9_top50 = filter_labels(mimic_9.copy(), mimic_9_top50_codes)\n",
    "mimic_10_top50 = filter_labels(mimic_10.copy(), mimic_10_top50_codes)\n"
   ]
  },
  {
   "cell_type": "code",
   "execution_count": 45,
   "metadata": {},
   "outputs": [
    {
     "data": {
      "text/plain": [
       "50"
      ]
     },
     "execution_count": 45,
     "metadata": {},
     "output_type": "execute_result"
    }
   ],
   "source": [
    "def count_unique_labels(df):\n",
    "    # Flatten the list of lists in the 'label' column\n",
    "    all_labels = [label for sublist in df['label'] for label in sublist]\n",
    "    # Convert to a set to find unique labels and then count them\n",
    "    unique_labels_count = len(set(all_labels))\n",
    "    return unique_labels_count\n",
    "\n",
    "# Testing the function on the DataFrame\n",
    "unique_label_count = count_unique_labels(mimic_9_top50)\n",
    "unique_label_count"
   ]
  },
  {
   "cell_type": "code",
   "execution_count": 46,
   "metadata": {},
   "outputs": [
    {
     "name": "stdout",
     "output_type": "stream",
     "text": [
      "MIMIC-9-50\n",
      "Number of entries: 93117\n",
      "Average length of labels: 4.281656410752064\n",
      "Average length of text: 8434.372885724411\n",
      "MIMIC-10-50\n",
      "Number of entries: 42210\n",
      "Average length of labels: 5.023146173892442\n",
      "Average length of text: 9367.560341151386\n"
     ]
    }
   ],
   "source": [
    "# Report the number of entries, the average length of labels, average length of text, and the number of labels that occur more than 5 times\n",
    "\n",
    "print(\"MIMIC-9-50\")\n",
    "print(\"Number of entries:\", len(mimic_9_top50))\n",
    "print(\"Average length of labels:\", np.mean(mimic_9_top50['label'].apply(len)))\n",
    "print(\"Average length of text:\", np.mean(mimic_9_top50['text'].apply(len)))\n",
    "\n",
    "\n",
    "print(\"MIMIC-10-50\")\n",
    "print(\"Number of entries:\", len(mimic_10_top50))\n",
    "print(\"Average length of labels:\", np.mean(mimic_10_top50['label'].apply(len)))\n",
    "print(\"Average length of text:\", np.mean(mimic_10_top50['text'].apply(len)))"
   ]
  },
  {
   "cell_type": "code",
   "execution_count": 47,
   "metadata": {},
   "outputs": [],
   "source": [
    "# Split into training, validation, and test sets\n",
    "train_9 = mimic_9.sample(frac=0.8, random_state=0)\n",
    "test_9 = mimic_9.drop(train_9.index)\n",
    "val_9 = test_9.sample(frac=0.5, random_state=0)\n",
    "test_9 = test_9.drop(val_9.index)\n",
    "\n",
    "train_10 = mimic_10.sample(frac=0.8, random_state=0)\n",
    "test_10 = mimic_10.drop(train_10.index)\n",
    "val_10 = test_10.sample(frac=0.5, random_state=0)\n",
    "test_10 = test_10.drop(val_10.index)\n",
    "\n",
    "\n",
    "train_9_top50 = mimic_9_top50.sample(frac=0.8, random_state=0)\n",
    "test_9_top50 = mimic_9_top50.drop(train_9_top50.index)\n",
    "val_9_top50 = test_9_top50.sample(frac=0.5, random_state=0)\n",
    "test_9_top50 = test_9_top50.drop(val_9_top50.index)\n",
    "\n",
    "train_10_top50 = mimic_10_top50.sample(frac=0.8, random_state=0)\n",
    "test_10_top50 = mimic_10_top50.drop(train_10_top50.index)\n",
    "val_10_top50 = test_10_top50.sample(frac=0.5, random_state=0)\n",
    "test_10_top50 = test_10_top50.drop(val_10_top50.index)"
   ]
  },
  {
   "cell_type": "code",
   "execution_count": 51,
   "metadata": {},
   "outputs": [],
   "source": [
    "# Save dataset to disk\n",
    "train_9.to_csv(DATA_FOLDER + \"train_9.csv\", index=False)\n",
    "val_9.to_csv(DATA_FOLDER + \"val_9.csv\", index=False)\n",
    "test_9.to_csv(DATA_FOLDER + \"test_9.csv\", index=False)\n",
    "\n",
    "train_10.to_csv(DATA_FOLDER + \"train_10.csv\", index=False)\n",
    "val_10.to_csv(DATA_FOLDER + \"val_10.csv\", index=False)\n",
    "test_10.to_csv(DATA_FOLDER + \"test_10.csv\", index=False)\n",
    "\n",
    "train_9_top50.to_csv(DATA_FOLDER + \"train_9_top50.csv\", index=False)\n",
    "val_9_top50.to_csv(DATA_FOLDER + \"val_9_top50.csv\", index=False)\n",
    "test_9_top50.to_csv(DATA_FOLDER + \"test_9_top50.csv\", index=False)\n",
    "\n",
    "train_10_top50.to_csv(DATA_FOLDER + \"train_10_top50.csv\", index=False)\n",
    "val_10_top50.to_csv(DATA_FOLDER + \"val_10_top50.csv\", index=False)\n",
    "test_10_top50.to_csv(DATA_FOLDER + \"test_10_top50.csv\", index=False)\n",
    "\n",
    "# Code list\n",
    "icd9_codes.to_csv(DATA_FOLDER + \"icd9_codes.csv\", index=False)\n",
    "icd10_codes.to_csv(DATA_FOLDER + \"icd10_codes.csv\", index=False)\n",
    "mimic_9_top50_codes.reset_index().to_csv(DATA_FOLDER + \"icd9_codes_top50.csv\", index=False)\n",
    "mimic_10_top50_codes.reset_index().to_csv(DATA_FOLDER + \"icd10_codes_top50.csv\", index=False)"
   ]
  }
 ],
 "metadata": {
  "kernelspec": {
   "display_name": ".venv",
   "language": "python",
   "name": "python3"
  },
  "language_info": {
   "codemirror_mode": {
    "name": "ipython",
    "version": 3
   },
   "file_extension": ".py",
   "mimetype": "text/x-python",
   "name": "python",
   "nbconvert_exporter": "python",
   "pygments_lexer": "ipython3",
   "version": "3.12.3"
  }
 },
 "nbformat": 4,
 "nbformat_minor": 2
}
