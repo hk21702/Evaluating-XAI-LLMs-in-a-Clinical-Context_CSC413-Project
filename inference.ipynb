{
 "cells": [
  {
   "cell_type": "code",
   "execution_count": 28,
   "metadata": {},
   "outputs": [],
   "source": [
    "import argparse\n",
    "from pprint import pprint\n",
    "\n",
    "import evaluate\n",
    "import numpy as np\n",
    "import pandas as pd\n",
    "import torch\n",
    "from torch import nn\n",
    "from datasets import load_dataset\n",
    "from peft import LoraConfig, TaskType, get_peft_model\n",
    "from transformers import (\n",
    "    AutoConfig,\n",
    "    AutoTokenizer,\n",
    "    AutoModelForSequenceClassification,\n",
    "    DataCollatorWithPadding,\n",
    "    EvalPrediction,\n",
    "    OPTForSequenceClassification,\n",
    "    Trainer,\n",
    "    TrainingArguments,\n",
    ")\n",
    "import wandb\n",
    "\n",
    "MODEL = \"facebook/opt-350m\"\n",
    "MAX_POSITION_EMBEDDINGS = 2048\n",
    "\n",
    "from dataclasses import dataclass\n"
   ]
  },
  {
   "cell_type": "code",
   "execution_count": 4,
   "metadata": {},
   "outputs": [],
   "source": [
    "CHECKPOINT_DIR = \"OPT-350m-mimic-full\"\n",
    "VAL_DATASET_PATH = \"data/val_9.csv\"\n",
    "CODE_PATH = \"data/icd9_codes.csv\""
   ]
  },
  {
   "cell_type": "code",
   "execution_count": 5,
   "metadata": {},
   "outputs": [
    {
     "name": "stderr",
     "output_type": "stream",
     "text": [
      "Generating train split: 15750 examples [00:02, 5659.18 examples/s]\n",
      "Map (num_proc=8): 100%|██████████| 15750/15750 [00:15<00:00, 1005.66 examples/s]\n"
     ]
    }
   ],
   "source": [
    "# Load dataset\n",
    "tokenizer = AutoTokenizer.from_pretrained(MODEL, use_fast=True)\n",
    "\n",
    "code_labels = pd.read_csv(\"data/icd9_codes.csv\")\n",
    "dataset = load_dataset(\"csv\", data_files=VAL_DATASET_PATH)\n",
    "\n",
    "# Create class dictionaries\n",
    "classes = [class_ for class_ in code_labels[\"icd_code\"] if class_]\n",
    "class2id = {class_: id for id, class_ in enumerate(classes)}\n",
    "id2class = {id: class_ for class_, id in class2id.items()}\n",
    "\n",
    "\n",
    "def multi_labels_to_ids(labels: list[str]) -> list[float]:\n",
    "    ids = [0.0] * len(class2id)  # BCELoss requires float as target type\n",
    "    for label in labels:\n",
    "        ids[class2id[label]] = 1.0\n",
    "    return ids\n",
    "\n",
    "\n",
    "def preprocess_function(example):\n",
    "    result = tokenizer(\n",
    "        example[\"text\"], truncation=True, max_length=MAX_POSITION_EMBEDDINGS\n",
    "    )\n",
    "    result[\"labels\"] = [multi_labels_to_ids(eval(label)) for label in example[\"labels\"]]\n",
    "    return result\n",
    "\n",
    "\n",
    "dataset = dataset.map(\n",
    "    preprocess_function, load_from_cache_file=True, batched=True, num_proc=8\n",
    ")"
   ]
  },
  {
   "cell_type": "code",
   "execution_count": 9,
   "metadata": {},
   "outputs": [
    {
     "name": "stderr",
     "output_type": "stream",
     "text": [
      "Some weights of OPTForSequenceClassification were not initialized from the model checkpoint at facebook/opt-350m and are newly initialized: ['score.weight']\n",
      "You should probably TRAIN this model on a down-stream task to be able to use it for predictions and inference.\n"
     ]
    }
   ],
   "source": [
    "config, unused_kwargs = AutoConfig.from_pretrained(\n",
    "    MODEL,\n",
    "    num_labels=len(classes),\n",
    "    id2label=id2class,\n",
    "    label2id=class2id,\n",
    "    problem_type=\"multi_label_classification\",\n",
    "    return_unused_kwargs=True,\n",
    ")\n",
    "\n",
    "if unused_kwargs:\n",
    "    print(f\"Unused kwargs: {unused_kwargs}\")\n",
    "\n",
    "model = OPTForSequenceClassification.from_pretrained(\n",
    "    MODEL,\n",
    "    config=config,\n",
    ")"
   ]
  },
  {
   "cell_type": "code",
   "execution_count": 10,
   "metadata": {},
   "outputs": [],
   "source": [
    "model.load_adapter(CHECKPOINT_DIR)"
   ]
  },
  {
   "cell_type": "code",
   "execution_count": 12,
   "metadata": {},
   "outputs": [
    {
     "name": "stdout",
     "output_type": "stream",
     "text": [
      "{'text': \"Sex:   M\\n \\nService: SURGERY\\n \\nAllergies: \\nGrass ___, Standard / Lactose\\n \\n ___.\\n \\nChief Complaint:\\nright popliteal aneurysm\\n \\nMajor Surgical or Invasive Procedure:\\n___: popliteal artery stent graft\\n\\n \\nHistory of Present Illness:\\nMr. ___ has a fairly focal aneurysm in the\\nmid right popliteal artery and is mostly full of thrombus and\\nmeasures 3.1 cm.  It is patent and does have palpable pedal\\npulse distally.  He has need of upcoming ankle surgery as well.\\nHe has a past medical history notable for breast cancer status\\npost mastectomy and chemotherapy/radiation therapy with duodenal\\nulcer, pseudogout, depression, hypothyroidism, microvascular\\ncerebrovascular disease, hyperlipidemia, and COPD.  He had vein\\nmapping performed today which shows the lesser saphenous veins\\nto be small and noncompressible bilaterally.  He has the\\nthrombosis of the right greater saphenous at the level of the\\nknee.  The left greater saphenous is adequate as are both\\nbasilic and cephalic veins.  It was decided that he would best \\nbe served by a stent graft. He was set up to have this done \\nelectively\\n \\nPast Medical History:\\nDepression\\nPseudogout\\nThyroid nodule\\nHx Duodenal ulcer ___ dx at OSH; ? secondary to ASA per pt.\\nHypothyroidism\\nCNS microvascular disease\\nHypercholesterolemia\\nNon-ulcer dyspepsia\\nAnemia\\nX-rays showing COPD although no smoking hx per pt.\\nBreast Cancer - T2, N1 ___ nodes), M0, grade III, double \\nhormone\\nreceptor positive and HER-2/neu negative infiltrating ductal\\ncarcinoma.  Lymphovascular invasion was also present.  He was\\ntreated with a total mastectomy, adjuvant chemotherapy with four\\ncycles of Taxotere and Cytoxan, followed by postmastectomy\\nradiation.  Currently on anastrozole.\\n\\n \\nPSH: Umbilical hernia repair ___, Right mastoid operation as \\na teenager, total mastectomy\\n\\n \\nSocial History:\\n___\\nFamily History:\\nnon contributory\\n \\nPhysical Exam:\\nvss afebrile\\n\\nGen - Elderly appearing male in nad, alert and oriented x 3\\nCV - RRR\\nLungs - CTA bilat\\nAbd - soft no m/t/o\\nExtremities - R ankle weakness (baseline). Full ROM of bilat ___. \\nRLE edema 1+. No LLE edema. R groin puncture c/d/i\\nPulses - femoral/dp/pt palpable bilat\\n \\nPertinent Results:\\n___ 09:20PM BLOOD WBC-4.4 RBC-3.96* Hgb-11.6* Hct-34.4* \\nMCV-87 MCH-29.4 MCHC-33.8 RDW-13.0 Plt ___\\n___ 07:30AM BLOOD WBC-5.5 RBC-3.99* Hgb-11.7* Hct-34.8* \\nMCV-87 MCH-29.4 MCHC-33.7 RDW-13.1 Plt ___\\n___ 09:20PM BLOOD Glucose-88 UreaN-12 Creat-0.9 Na-142 \\nK-4.3 Cl-105 HCO3-26 AnGap-15\\n___ 07:30AM BLOOD Glucose-144* UreaN-14 Creat-1.0 Na-139 \\nK-4.5 Cl-103 HCO3-30 AnGap-11\\n___ 09:20PM BLOOD Calcium-8.7 Phos-2.9 Mg-1.9\\n___ 07:30AM BLOOD Calcium-8.9 Phos-3.7 Mg-2.5\\n \\nBrief Hospital Course:\\nMr. ___ was admitted, preop'd, consented and taken for right \\npopliteal stent graft. Just prior to the operation he had an \\nepisode of sinus tachycardia, but quickly returned to his \\nbaseline which is sinus bradycardia. He tolerated the procedure \\nwell and was transfered to the PACU where he remained \\nhemodynamicaly stable. He did have another episode of sinus \\ntachycardia in the PACU and received several doses of IV \\nmetoprolol.  He rapidly converted to sinus bradycardia with \\nrates in the ___.  His blood pressure was stable throughout \\nthese episodes and he was completely asymptomatic. He was \\ntransfered to the VICU for monitoring overnight. He remained in \\nsinus rhythm with heart rate stable in the ___. Review of \\nrecords and discussion with his PCP revealed that he has had \\nother episodes of sinus tach in the setting of procedures and \\noutpatient work up did not reveal anything significant. His \\nbaseline HR is sinus bradycardia in the high ___.  We had our \\nelectrophysiology team here see him and they felt there was no \\nacute issue. They did recommend he follow up with his PCP or \\ncardiologist and have an outpatient echo.  Mr. ___ was \\nfeeling well on POD 1. His lab values were stable, he tolerated \\na regular diet and voided without difficulty.  He did walk with \\nhis cane but was a bit unsteady. ___ evaluated him and felt he \\nwould benefit from a walker and home ___. He was deemed stable \\nfor d/c home with family with a walker and a ___ and home ___. He \\nwill follow up with vascular, and his pcp in the near future. \\n \\nMedications on Admission:\\n anastrozole 1 mg qd;  \\n  colchicine 0.6 mg qd' DIAZEPAM 5MG prn;  levothyroxine 75 mcg \\nqd;  pravastatin 80 mg qd; ranitidine HCl 300 mg bid;        \\n  aspirin 325 qd\\n \\nDischarge Medications:\\n1. oxycodone-acetaminophen ___ mg Tablet Sig: One (1) Tablet \\nPO Q6H (every 6 hours) as needed for pain.\\nDisp:*10 Tablet(s)* Refills:*0*\\n2. docusate sodium 100 mg Capsule Sig: One (1) Capsule PO BID (2 \\ntimes a day): while on narcotics.  \\n3. levothyroxine 75 mcg Tablet Sig: One (1) Tablet PO DAILY \\n(Daily).  \\n4. pravastatin 80 mg Tablet Sig: One (1) Tablet PO once a day.  \\n5. anastrozole 1 mg Tablet Sig: One (1) Tablet PO once a day.  \\n6. colchicine 0.6 mg Tablet Sig: One (1) Tablet PO once a day.  \\n7. diazepam 5 mg Tablet Sig: One (1) Tablet PO at bedtime as \\nneeded for insomnia.  \\n8. ranitidine HCl 150 mg Tablet Sig: Two (2) Tablet PO BID (2 \\ntimes a day).  \\n9. aspirin 325 mg Tablet Sig: One (1) Tablet PO DAILY (Daily).  \\n10. clopidogrel 75 mg Tablet Sig: One (1) Tablet PO DAILY \\n(Daily) for 1 months: for 1 month then stop.\\nDisp:*30 Tablet(s)* Refills:*0*\\n\\n \\nDischarge Disposition:\\nHome With Service\\n \\nFacility:\\n___\\n \\nDischarge Diagnosis:\\nR popiteal artery anuerysm\\n\\n \\nDischarge Condition:\\nMental Status: Clear and coherent.\\nLevel of Consciousness: Alert and interactive.\\nActivity Status: Ambulatory - requires assistance or aid (walker \\nor cane).\\n\\n \\nDischarge Instructions:\\nDivision of Vascular and Endovascular Surgery\\nLower Extremity Angioplasty/Stent Discharge Instructions\\n\\nMedications:\\n\\x95Take Aspirin 325mg (enteric coated) once daily \\n\\x95If instructed, take Plavix (Clopidogrel) 75mg once daily\\n\\x95Continue all other medications you were taking before surgery, \\nunless otherwise directed\\n\\x95You make take Tylenol or prescribed pain medications for any \\npost procedure pain or discomfort\\n\\nWhat to expect when you go home:\\nIt is normal to have slight swelling of the legs:\\n\\x95Elevate your leg above the level of your heart (use ___ \\npillows or a recliner) every ___ hours throughout the day and at \\nnight\\n\\x95Avoid prolonged periods of standing or sitting without your \\nlegs elevated\\n\\x95It is normal to feel tired and have a decreased appetite, your \\nappetite will return with time \\n\\x95Drink plenty of fluids and eat small frequent meals\\n\\x95It is important to eat nutritious food options (high fiber, \\nlean meats, vegetables/fruits, low fat, low cholesterol) to \\nmaintain your strength and assist in wound healing\\n\\x95To avoid constipation: eat a high fiber diet and use stool \\nsoftener while taking pain medication\\n\\nWhat activities you can and cannot do:\\n\\x95When you go home, you may walk and go up and down stairs\\n\\x95You may shower (let the soapy water run over groin incision, \\nrinse and pat dry)\\n\\x95Your incision may be left uncovered, unless you have small \\namounts of drainage from the wound, then place a dry dressing or \\nband aid over the area that is draining, as needed\\n\\x95No heavy lifting, pushing or pulling (greater than 5 lbs) for \\n1 week (to allow groin puncture to heal)\\n\\x95After 1 week, you may resume sexual activity\\n\\x95After 1 week, gradually increase your activities and distance \\nwalked as you can tolerate\\n\\x95No driving until you are no longer taking pain medications\\n\\x95Call and schedule an appointment to be seen in ___ weeks for \\npost procedure check and ultrasound \\n\\nWhat to report to office:\\n\\x95Numbness, coldness or pain in lower extremities \\n\\x95Temperature greater than 101.5F for 24 hours\\n\\x95New or increased drainage from incision or white, yellow or \\ngreen drainage from incisions\\n\\x95Bleeding from groin puncture site\\n\\nSUDDEN, SEVERE BLEEDING OR SWELLING (Groin puncture site)\\n\\x95Lie down, keep leg straight and have someone apply firm \\npressure to area for 10 minutes. If bleeding stops, call \\nvascular office ___. If bleeding does not stop, call \\n___ for transfer to closest Emergency Room.\\n\\nYou need to follow up with your cardiologist and primary care \\ndoctor regarding your baseline bradycardia.  You should have \\nyour thyroid function followed closely.  \\n \\nFollowup Instructions:\\n___\", 'labels': \"['d-496', 'd-2720']\"}\n"
     ]
    }
   ],
   "source": [
    "untokenized_dataset = load_dataset(\"csv\", data_files=VAL_DATASET_PATH)\n",
    "\n",
    "print(untokenized_dataset['train'][0])"
   ]
  },
  {
   "cell_type": "code",
   "execution_count": 14,
   "metadata": {},
   "outputs": [],
   "source": [
    "inputs = tokenizer(untokenized_dataset[\"train\"][0]['text'], return_tensors=\"pt\", truncation=True, max_length=MAX_POSITION_EMBEDDINGS)\n",
    "\n",
    "with torch.no_grad():\n",
    "    logits = model(**inputs).logits"
   ]
  },
  {
   "cell_type": "code",
   "execution_count": 30,
   "metadata": {},
   "outputs": [
    {
     "name": "stdout",
     "output_type": "stream",
     "text": [
      "  icd_code  icd_version                           long_title\n",
      "0   d-2449            9  Unspecified acquired hypothyroidism\n",
      "  icd_code  icd_version                 long_title\n",
      "2   d-2720            9  Pure hypercholesterolemia\n",
      "  icd_code  icd_version                            long_title\n",
      "3   d-2724            9  Other and unspecified hyperlipidemia\n",
      "   icd_code  icd_version                                     long_title\n",
      "15    d-311            9  Depressive disorder, not elsewhere classified\n",
      "   icd_code  icd_version                                         long_title\n",
      "29    d-496            9  Chronic airway obstruction, not elsewhere clas...\n"
     ]
    }
   ],
   "source": [
    "predicted_class_ids = torch.arange(0, logits.shape[-1])[\n",
    "    torch.sigmoid(logits).squeeze(dim=0) > 0.5\n",
    "]\n",
    "\n",
    "# Get the predicted class names\n",
    "for id in predicted_class_ids:\n",
    "    predicted_class = id2class[int(id)]\n",
    "    pprint(code_labels[code_labels.icd_code == predicted_class])"
   ]
  },
  {
   "cell_type": "code",
   "execution_count": 43,
   "metadata": {},
   "outputs": [
    {
     "name": "stdout",
     "output_type": "stream",
     "text": [
      "'d-2449, 2.680248260498047'\n",
      "'d-25000, -5.279692649841309'\n",
      "'d-2720, 0.6904276609420776'\n",
      "'d-2724, 0.1000528335571289'\n",
      "'d-2749, -4.944847583770752'\n",
      "'d-2761, -3.923020601272583'\n",
      "'d-2762, -5.64964485168457'\n",
      "'d-27651, -3.627403736114502'\n",
      "'d-27800, -4.593332290649414'\n",
      "'d-2851, -1.8333784341812134'\n",
      "'d-2859, -3.437279224395752'\n",
      "'d-2875, -5.90502405166626'\n",
      "'d-30000, -3.9239180088043213'\n",
      "'d-30500, -5.418412208557129'\n",
      "'d-3051, -1.8782130479812622'\n",
      "'d-311, 0.6561868190765381'\n",
      "'d-32723, -3.748591423034668'\n",
      "'d-33829, -5.080074310302734'\n",
      "'d-3572, -4.4857282638549805'\n",
      "'d-4019, -2.3807945251464844'\n",
      "'d-40390, -3.9646496772766113'\n",
      "'d-412, -2.66621994972229'\n",
      "'d-41400, -5.219027996063232'\n",
      "'d-41401, -2.2151124477386475'\n",
      "'d-42731, -5.226138591766357'\n",
      "'d-42789, -4.7224531173706055'\n",
      "'d-4280, -2.5561134815216064'\n",
      "'d-486, -3.5420994758605957'\n",
      "'d-49390, -6.440539836883545'\n",
      "'d-496, 2.2681386470794678'\n",
      "'d-53081, -3.4620933532714844'\n",
      "'d-56400, -4.661619663238525'\n",
      "'d-5849, -4.719424724578857'\n",
      "'d-5856, -5.120014190673828'\n",
      "'d-5859, -2.8785481452941895'\n",
      "'d-5990, -4.611277103424072'\n",
      "'d-60000, -3.324827194213867'\n",
      "'d-73300, -4.628719806671143'\n",
      "'d-78650, -7.667643070220947'\n",
      "'d-78659, -6.991236686706543'\n",
      "'d-V1251, -1.9785239696502686'\n",
      "'d-V1254, -3.064779758453369'\n",
      "'d-V1582, -1.1089023351669312'\n",
      "'d-V270, -15.218591690063477'\n",
      "'d-V4581, -4.225933074951172'\n",
      "'d-V4582, -5.282209396362305'\n",
      "'d-V4986, -4.723583221435547'\n",
      "'d-V5861, -3.4897375106811523'\n",
      "'d-V5866, -3.306910276412964'\n",
      "'d-V5867, -5.483814239501953'\n",
      "'d-V6284, -7.29667854309082'\n"
     ]
    }
   ],
   "source": [
    "for i, logit in enumerate(logits[0]):\n",
    "    pprint(f'{classes[i]}, {logit}')"
   ]
  }
 ],
 "metadata": {
  "kernelspec": {
   "display_name": "Python 3 (ipykernel)",
   "language": "python",
   "name": "python3"
  },
  "language_info": {
   "codemirror_mode": {
    "name": "ipython",
    "version": 3
   },
   "file_extension": ".py",
   "mimetype": "text/x-python",
   "name": "python",
   "nbconvert_exporter": "python",
   "pygments_lexer": "ipython3",
   "version": "3.11.6"
  }
 },
 "nbformat": 4,
 "nbformat_minor": 2
}
